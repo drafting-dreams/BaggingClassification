{
 "cells": [
  {
   "cell_type": "markdown",
   "metadata": {},
   "source": [
    "# Decison Tree Bagging"
   ]
  },
  {
   "cell_type": "markdown",
   "metadata": {},
   "source": [
    "In this section, I will implement bagging algorithm with sklearn's DecisionTreeClassifier.\n",
    "Bagging algorithm is that randomly picking the same size of rows in the traing set to form many new different training sets. And use these training sets to train many different classifier. Finally, use these classifier to predict results. Here, we get lots of different results for one row, pick out the most numerous result!(This is what we called vote).\n",
    "Okay, let just do it!\n",
    "\n",
    "First, let's import the libs we need."
   ]
  },
  {
   "cell_type": "code",
   "execution_count": 38,
   "metadata": {},
   "outputs": [],
   "source": [
    "from random import randint\n",
    "import pandas as pd\n",
    "from sklearn.tree import DecisionTreeClassifier\n",
    "import matplotlib.pyplot as plt"
   ]
  },
  {
   "cell_type": "markdown",
   "metadata": {},
   "source": [
    "Today, we have two tasks, one is binary classification, the other is multi classification.\n",
    "Our data set gives us different types of glasses and their parameters.\n",
    "First, read our data."
   ]
  },
  {
   "cell_type": "code",
   "execution_count": 39,
   "metadata": {},
   "outputs": [],
   "source": [
    "train_df = pd.read_table(\"glass.data\",\n",
    "                   names=['RI','Na','Mg','Al','Si','K','Ca','Ba','Fe','type'],\n",
    "                   skiprows=1,sep=\",\",index_col=None,engine='python')\n",
    "test_df = pd.read_table(\"glass.test\",\n",
    "                   names=['RI','Na','Mg','Al','Si','K','Ca','Ba','Fe','type'],\n",
    "                   skiprows=1,sep=\",\",index_col=None,engine='python')"
   ]
  },
  {
   "cell_type": "markdown",
   "metadata": {},
   "source": [
    "To implement the binary classification, the types must be handled!\n",
    "\n",
    "Here we mark window glass as 1, non window glass as 0."
   ]
  },
  {
   "cell_type": "code",
   "execution_count": 40,
   "metadata": {},
   "outputs": [],
   "source": [
    "train_df_binary = train_df.copy(deep=True)\n",
    "test_df_binary = test_df.copy(deep=True)\n",
    "train_df_binary['type'].replace(r'windows', 1, regex=True, inplace=True)\n",
    "train_df_binary['type'].replace(r'([^1])', 0, regex=True, inplace=True)\n",
    "test_df_binary['type'].replace(r'windows', 1, regex=True, inplace=True)\n",
    "test_df_binary['type'].replace(r'([^1])', 0, regex=True, inplace=True)"
   ]
  },
  {
   "cell_type": "code",
   "execution_count": 41,
   "metadata": {},
   "outputs": [],
   "source": [
    "def get_n_sample_df(n, df):\n",
    "    size = len(df)\n",
    "    resArr = []\n",
    "    for ii in range(n):\n",
    "        temp_df = pd.DataFrame(columns=df.columns)\n",
    "        for i in range(size):\n",
    "            randomIndex = randint(0, size - 1)\n",
    "            temp_df = temp_df.append(df.iloc[randomIndex])\n",
    "        temp_df.reset_index(drop=True, inplace=True)\n",
    "        resArr.append(temp_df)\n",
    "    return resArr\n"
   ]
  },
  {
   "cell_type": "code",
   "execution_count": 42,
   "metadata": {},
   "outputs": [],
   "source": [
    "def train_classifiers(num, df):\n",
    "    arr = get_n_sample_df(num, df)\n",
    "    result = []\n",
    "\n",
    "    for bag in arr:\n",
    "        # bag[bag.columns[:-1]] = scaler.fit_transform(bag[bag.columns[:-1]])\n",
    "        X_train = bag[bag.columns[:-1]]\n",
    "        Y_train = (bag['type'])\n",
    "        clf = DecisionTreeClassifier()\n",
    "        clf = clf.fit(X_train, Y_train)\n",
    "        result.append(clf)\n",
    "\n",
    "    return result\n"
   ]
  },
  {
   "cell_type": "code",
   "execution_count": 43,
   "metadata": {},
   "outputs": [],
   "source": [
    "def getResultFromClassfiers(cs, X):\n",
    "    predictions = []\n",
    "    votedPredictions = []\n",
    "    for c in cs:\n",
    "        res = c.predict(X)\n",
    "        predictions.append(res)\n",
    "\n",
    "    predictionsNum = len(predictions)\n",
    "    listLen = len(predictions[0])\n",
    "\n",
    "    for i in range(listLen):\n",
    "        d = {}\n",
    "        for ii in range(predictionsNum):\n",
    "            result = predictions[ii][i]\n",
    "            if result in d.keys():\n",
    "                d[result] += 1\n",
    "            else:\n",
    "                d[result] = 1\n",
    "\n",
    "        votedPredictions.append(max(d.items(), key=lambda x: x[1])[0])\n",
    "\n",
    "    return votedPredictions\n"
   ]
  },
  {
   "cell_type": "code",
   "execution_count": 44,
   "metadata": {},
   "outputs": [],
   "source": [
    "def bagging_clf(classierNum, df_train, df_test):\n",
    "\n",
    "    cs = train_classifiers(classierNum, df_train)\n",
    "\n",
    "    X_test = df_test[df_test.columns[:-1]]\n",
    "    Y_test = df_test['type']\n",
    "\n",
    "    votedPredictions = getResultFromClassfiers(cs, X_test)\n",
    "    return votedPredictions\n"
   ]
  },
  {
   "cell_type": "code",
   "execution_count": 57,
   "metadata": {},
   "outputs": [],
   "source": [
    "def normal_clf(df_train, df_test):\n",
    "    clf = DecisionTreeClassifier()\n",
    "    X_normal_train = df_train[train_df.columns[:-1]]\n",
    "    Y_normal_train = df_train['type']\n",
    "    clf.fit(X_normal_train, Y_normal_train)\n",
    "    X_normal_test = df_test[test_df.columns[:-1]]\n",
    "    return clf.predict(X_normal_test)"
   ]
  },
  {
   "cell_type": "code",
   "execution_count": 45,
   "metadata": {},
   "outputs": [],
   "source": [
    "def accuracy(result, test_Y):\n",
    "    length = len(result)\n",
    "    right = 0\n",
    "    for i in range(length):\n",
    "        if result[i] == test_Y[i]:\n",
    "            right += 1\n",
    "    accuracy = right / length\n",
    "    print(\"Accuracy: \", accuracy)\n",
    "    return right / length"
   ]
  },
  {
   "cell_type": "code",
   "execution_count": 62,
   "metadata": {},
   "outputs": [
    {
     "name": "stdout",
     "output_type": "stream",
     "text": [
      "Accuracy:  0.6805555555555556\n",
      "Accuracy:  0.625\n",
      "Accuracy:  0.7638888888888888\n",
      "Accuracy:  0.7638888888888888\n",
      "Accuracy:  0.6666666666666666\n",
      "Accuracy:  0.7222222222222222\n",
      "Accuracy:  0.7638888888888888\n",
      "Accuracy:  0.7083333333333334\n",
      "Accuracy:  0.75\n",
      "Accuracy:  0.6944444444444444\n",
      "Accuracy:  0.7638888888888888\n",
      "Accuracy:  0.7361111111111112\n",
      "Accuracy:  0.7361111111111112\n",
      "Accuracy:  0.7222222222222222\n",
      "Accuracy:  0.7083333333333334\n",
      "Accuracy:  0.7222222222222222\n",
      "Accuracy:  0.7916666666666666\n",
      "Accuracy:  0.75\n",
      "Accuracy:  0.7638888888888888\n",
      "Accuracy:  0.7361111111111112\n",
      "Accuracy:  0.75\n",
      "Accuracy:  0.7361111111111112\n",
      "Accuracy:  0.7361111111111112\n",
      "Accuracy:  0.75\n",
      "Accuracy:  0.75\n",
      "Accuracy:  0.75\n",
      "Accuracy:  0.75\n",
      "Accuracy:  0.7361111111111112\n",
      "Accuracy:  0.7361111111111112\n",
      "Accuracy:  0.7638888888888888\n"
     ]
    },
    {
     "data": {
      "image/png": "[encoded data removed]",
      "text/plain": [
       "<matplotlib.figure.Figure at 0xd51cd7d240>"
      ]
     },
     "metadata": {},
     "output_type": "display_data"
    }
   ],
   "source": [
    "accuracies = []\n",
    "for i in range(30):\n",
    "    result = bagging_clf(i+1, train_df, test_df)\n",
    "    accuracies.append(accuracy(result, test_df['type']))\n",
    "    \n",
    "plt.plot(list(range(31)[1:]), accuracies)\n",
    "plt.show()"
   ]
  },
  {
   "cell_type": "code",
   "execution_count": 92,
   "metadata": {},
   "outputs": [
    {
     "name": "stdout",
     "output_type": "stream",
     "text": [
      "Accuracy:  0.7083333333333334\n"
     ]
    },
    {
     "data": {
      "text/plain": [
       "0.7083333333333334"
      ]
     },
     "execution_count": 92,
     "metadata": {},
     "output_type": "execute_result"
    }
   ],
   "source": [
    "accuracy(normal_clf(train_df, test_df), test_df['type'])"
   ]
  },
  {
   "cell_type": "markdown",
   "metadata": {},
   "source": [
    "As you can see, with only one bag, the result is obviously not as good as normal decisiontree, but as the bag number increased, the accuracy gets better. Finally, the accuracy is stable at around 0.74. 0.4 better than the normal accuracy!!!\n",
    "\n",
    "Bagging algorithm does help a lot on multi classification!\n",
    "So, what about binary classification?"
   ]
  },
  {
   "cell_type": "code",
   "execution_count": 64,
   "metadata": {},
   "outputs": [
    {
     "name": "stdout",
     "output_type": "stream",
     "text": [
      "Accuracy:  0.875\n",
      "Accuracy:  0.9444444444444444\n",
      "Accuracy:  0.9027777777777778\n",
      "Accuracy:  0.9305555555555556\n",
      "Accuracy:  0.9166666666666666\n",
      "Accuracy:  0.9305555555555556\n",
      "Accuracy:  0.9166666666666666\n",
      "Accuracy:  0.9166666666666666\n",
      "Accuracy:  0.9444444444444444\n",
      "Accuracy:  0.9305555555555556\n",
      "Accuracy:  0.9166666666666666\n",
      "Accuracy:  0.9444444444444444\n",
      "Accuracy:  0.9166666666666666\n",
      "Accuracy:  0.9027777777777778\n",
      "Accuracy:  0.9305555555555556\n",
      "Accuracy:  0.9444444444444444\n",
      "Accuracy:  0.9305555555555556\n",
      "Accuracy:  0.9166666666666666\n",
      "Accuracy:  0.9166666666666666\n",
      "Accuracy:  0.9305555555555556\n",
      "Accuracy:  0.9444444444444444\n",
      "Accuracy:  0.9444444444444444\n",
      "Accuracy:  0.9166666666666666\n",
      "Accuracy:  0.9166666666666666\n",
      "Accuracy:  0.9166666666666666\n",
      "Accuracy:  0.9027777777777778\n",
      "Accuracy:  0.9166666666666666\n",
      "Accuracy:  0.9444444444444444\n",
      "Accuracy:  0.9583333333333334\n",
      "Accuracy:  0.9305555555555556\n"
     ]
    },
    {
     "data": {
      "image/png": "[encoded data removed]",
      "text/plain": [
       "<matplotlib.figure.Figure at 0xd51d086cf8>"
      ]
     },
     "metadata": {},
     "output_type": "display_data"
    }
   ],
   "source": [
    "accuracies = []\n",
    "for i in range(30):\n",
    "    result = bagging_clf(i+1, train_df_binary, test_df_binary)\n",
    "    accuracies.append(accuracy(result, test_df_binary['type']))\n",
    "    \n",
    "plt.plot(list(range(31)[1:]), accuracies)\n",
    "plt.show()"
   ]
  },
  {
   "cell_type": "code",
   "execution_count": 84,
   "metadata": {},
   "outputs": [
    {
     "name": "stdout",
     "output_type": "stream",
     "text": [
      "Accuracy:  0.9027777777777778\n"
     ]
    },
    {
     "data": {
      "text/plain": [
       "0.9027777777777778"
      ]
     },
     "execution_count": 84,
     "metadata": {},
     "output_type": "execute_result"
    }
   ],
   "source": [
    "accuracy(normal_clf(train_df_binary, test_df_binary), test_df_binary['type'])"
   ]
  },
  {
   "cell_type": "markdown",
   "metadata": {},
   "source": [
    "As you can see, this doesn't help a lot on binary classification, the result is still not very stable. Most baggin results are 0.1~0.2 better than the noraml method.\n",
    "\n",
    "In my opinion, the more types we need to predict, the more useful bagging algorithm is."
   ]
  }
 ],
 "metadata": {
  "kernelspec": {
   "display_name": "Python 3",
   "language": "python",
   "name": "python3"
  },
  "language_info": {
   "codemirror_mode": {
    "name": "ipython",
    "version": 3
   },
   "file_extension": ".py",
   "mimetype": "text/x-python",
   "name": "python",
   "nbconvert_exporter": "python",
   "pygments_lexer": "ipython3",
   "version": "3.6.4"
  }
 },
 "nbformat": 4,
 "nbformat_minor": 2
}
